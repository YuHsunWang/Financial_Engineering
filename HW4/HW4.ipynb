{
 "cells": [
  {
   "cell_type": "markdown",
   "metadata": {},
   "source": [
    "# Package"
   ]
  },
  {
   "cell_type": "code",
   "execution_count": 1,
   "metadata": {},
   "outputs": [],
   "source": [
    "import scipy.stats\n",
    "import pandas as pd\n",
    "import numpy as np"
   ]
  },
  {
   "cell_type": "markdown",
   "metadata": {},
   "source": [
    "# Input"
   ]
  },
  {
   "cell_type": "code",
   "execution_count": 2,
   "metadata": {},
   "outputs": [],
   "source": [
    "S              = 75   \n",
    "K              = 65\n",
    "dividend_list  = [1,1]\n",
    "dividend_month = [1,4]\n",
    "sigma          = 0.35\n",
    "r              = 0.06\n",
    "due            = 6"
   ]
  },
  {
   "cell_type": "markdown",
   "metadata": {},
   "source": [
    "# Calculate Dividends"
   ]
  },
  {
   "cell_type": "code",
   "execution_count": 3,
   "metadata": {},
   "outputs": [
    {
     "name": "stdout",
     "output_type": "stream",
     "text": [
      "1.9752\n"
     ]
    }
   ],
   "source": [
    "D = 0\n",
    "for i,j in zip(dividend_list,dividend_month):\n",
    "    D = D + i * np.exp(-r*(j/12))\n",
    "D = round(D,4)\n",
    "print(D)"
   ]
  },
  {
   "cell_type": "markdown",
   "metadata": {},
   "source": [
    "# Calculate d_1 & d_2"
   ]
  },
  {
   "cell_type": "code",
   "execution_count": 4,
   "metadata": {},
   "outputs": [],
   "source": [
    "S_hat = S - D"
   ]
  },
  {
   "cell_type": "code",
   "execution_count": 5,
   "metadata": {},
   "outputs": [
    {
     "name": "stdout",
     "output_type": "stream",
     "text": [
      "d1 equals to 0.715\n",
      "d2 equals to 0.468\n"
     ]
    }
   ],
   "source": [
    "d_1 =round((np.log(S_hat/K)+(r+0.5*sigma**2)*(due/12))/(sigma*((due/12)**(1/2))),3)\n",
    "d_2 =round(d_1 - (sigma*((due/12)**(1/2))),3)\n",
    "print('d1 equals to {}'.format(d_1))\n",
    "print('d2 equals to {}'.format(d_2))"
   ]
  },
  {
   "cell_type": "code",
   "execution_count": 6,
   "metadata": {},
   "outputs": [
    {
     "name": "stdout",
     "output_type": "stream",
     "text": [
      "N(-d1) equals to 0.2373\n",
      "N(-d2) equals to 0.3199\n",
      "N(d1) equals to 0.7627\n",
      "N(d2) equals to 0.6801\n"
     ]
    }
   ],
   "source": [
    "PN1 = round(scipy.stats.norm.cdf(-d_1),4)\n",
    "PN2 = round(scipy.stats.norm.cdf(-d_2),4)\n",
    "CN1 = round(scipy.stats.norm.cdf(d_1),4)\n",
    "CN2 = round(scipy.stats.norm.cdf(d_2),4)\n",
    "print('N(-d1) equals to {}'.format(PN1))\n",
    "print('N(-d2) equals to {}'.format(PN2))\n",
    "print('N(d1) equals to {}'.format(CN1))\n",
    "print('N(d2) equals to {}'.format(CN2))"
   ]
  },
  {
   "cell_type": "markdown",
   "metadata": {},
   "source": [
    "# Calculate Put Price"
   ]
  },
  {
   "cell_type": "code",
   "execution_count": 7,
   "metadata": {},
   "outputs": [],
   "source": [
    "Put  = round( K * np.exp(-r*due/12) * PN2 - S_hat * PN1 , 2 )\n",
    "Call = round(S_hat * CN1 - K * np.exp(-r*due/12) * CN2 , 2)"
   ]
  },
  {
   "cell_type": "code",
   "execution_count": 9,
   "metadata": {},
   "outputs": [
    {
     "name": "stdout",
     "output_type": "stream",
     "text": [
      "Call is worth 12.8\n",
      "Put is worth 2.85\n"
     ]
    }
   ],
   "source": [
    "print('Call is worth {}'.format(Call))\n",
    "print('Put is worth {}'.format(Put))"
   ]
  }
 ],
 "metadata": {
  "kernelspec": {
   "display_name": "Python 3",
   "language": "python",
   "name": "python3"
  },
  "language_info": {
   "codemirror_mode": {
    "name": "ipython",
    "version": 3
   },
   "file_extension": ".py",
   "mimetype": "text/x-python",
   "name": "python",
   "nbconvert_exporter": "python",
   "pygments_lexer": "ipython3",
   "version": "3.7.6"
  }
 },
 "nbformat": 4,
 "nbformat_minor": 2
}
