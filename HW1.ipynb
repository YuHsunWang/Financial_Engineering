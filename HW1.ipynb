{
 "cells": [
  {
   "cell_type": "markdown",
   "metadata": {},
   "source": [
    "# 載入套件"
   ]
  },
  {
   "cell_type": "code",
   "execution_count": 1,
   "metadata": {},
   "outputs": [],
   "source": [
    "import math as math\n",
    "import numpy as np\n",
    "import pandas as pd"
   ]
  },
  {
   "cell_type": "markdown",
   "metadata": {},
   "source": [
    "# 參數設定"
   ]
  },
  {
   "cell_type": "code",
   "execution_count": 2,
   "metadata": {},
   "outputs": [],
   "source": [
    "#p = 本金\n",
    "#r = 利率\n",
    "#t = 期數(年)\n",
    "p = 100000\n",
    "r = 0.05\n",
    "t = 7"
   ]
  },
  {
   "cell_type": "markdown",
   "metadata": {},
   "source": [
    "# 建立list以儲存資料"
   ]
  },
  {
   "cell_type": "code",
   "execution_count": 3,
   "metadata": {},
   "outputs": [],
   "source": [
    "period_list=[]\n",
    "principal_list=[]\n",
    "interest_list=[]\n",
    "total_list=[]\n",
    "rest_list=[]"
   ]
  },
  {
   "cell_type": "markdown",
   "metadata": {},
   "source": [
    "# 寫入迴圈進行運算"
   ]
  },
  {
   "cell_type": "code",
   "execution_count": 4,
   "metadata": {},
   "outputs": [],
   "source": [
    "payment = math.ceil((p/(t*12)))            #計算每期該還本金(取無條件進位)\n",
    "total   = 0\n",
    "for month in range(0,12*t):\n",
    "    interest  = round(p*r/12)              #償還利息(取四捨五入)\n",
    "    if (month == ((12*t)-1)):\n",
    "        payment = p                        #最後一期結清本金\n",
    "    total     = total + payment + interest #本金利息累計\n",
    "    period    = month + 1                  #期數\n",
    "    p         = p - payment                # 剩餘未還本金\n",
    "    period_list.append(period)\n",
    "    principal_list.append(payment)\n",
    "    interest_list.append(interest)\n",
    "    total_list.append(total)\n",
    "    rest_list.append(p)\n",
    "    "
   ]
  },
  {
   "cell_type": "markdown",
   "metadata": {},
   "source": [
    "# 將資料轉成DataFrame"
   ]
  },
  {
   "cell_type": "code",
   "execution_count": 5,
   "metadata": {},
   "outputs": [
    {
     "data": {
      "text/html": [
       "<div>\n",
       "<style scoped>\n",
       "    .dataframe tbody tr th:only-of-type {\n",
       "        vertical-align: middle;\n",
       "    }\n",
       "\n",
       "    .dataframe tbody tr th {\n",
       "        vertical-align: top;\n",
       "    }\n",
       "\n",
       "    .dataframe thead th {\n",
       "        text-align: right;\n",
       "    }\n",
       "</style>\n",
       "<table border=\"1\" class=\"dataframe\">\n",
       "  <thead>\n",
       "    <tr style=\"text-align: right;\">\n",
       "      <th></th>\n",
       "      <th>期數</th>\n",
       "      <th>償還本金</th>\n",
       "      <th>償還利息</th>\n",
       "      <th>本金利息累計</th>\n",
       "      <th>剩餘未還本金</th>\n",
       "    </tr>\n",
       "  </thead>\n",
       "  <tbody>\n",
       "    <tr>\n",
       "      <td>0</td>\n",
       "      <td>1</td>\n",
       "      <td>1191</td>\n",
       "      <td>417</td>\n",
       "      <td>1608</td>\n",
       "      <td>98809</td>\n",
       "    </tr>\n",
       "    <tr>\n",
       "      <td>1</td>\n",
       "      <td>2</td>\n",
       "      <td>1191</td>\n",
       "      <td>412</td>\n",
       "      <td>3211</td>\n",
       "      <td>97618</td>\n",
       "    </tr>\n",
       "    <tr>\n",
       "      <td>2</td>\n",
       "      <td>3</td>\n",
       "      <td>1191</td>\n",
       "      <td>407</td>\n",
       "      <td>4809</td>\n",
       "      <td>96427</td>\n",
       "    </tr>\n",
       "    <tr>\n",
       "      <td>3</td>\n",
       "      <td>4</td>\n",
       "      <td>1191</td>\n",
       "      <td>402</td>\n",
       "      <td>6402</td>\n",
       "      <td>95236</td>\n",
       "    </tr>\n",
       "    <tr>\n",
       "      <td>4</td>\n",
       "      <td>5</td>\n",
       "      <td>1191</td>\n",
       "      <td>397</td>\n",
       "      <td>7990</td>\n",
       "      <td>94045</td>\n",
       "    </tr>\n",
       "    <tr>\n",
       "      <td>...</td>\n",
       "      <td>...</td>\n",
       "      <td>...</td>\n",
       "      <td>...</td>\n",
       "      <td>...</td>\n",
       "      <td>...</td>\n",
       "    </tr>\n",
       "    <tr>\n",
       "      <td>79</td>\n",
       "      <td>80</td>\n",
       "      <td>1191</td>\n",
       "      <td>25</td>\n",
       "      <td>112932</td>\n",
       "      <td>4720</td>\n",
       "    </tr>\n",
       "    <tr>\n",
       "      <td>80</td>\n",
       "      <td>81</td>\n",
       "      <td>1191</td>\n",
       "      <td>20</td>\n",
       "      <td>114143</td>\n",
       "      <td>3529</td>\n",
       "    </tr>\n",
       "    <tr>\n",
       "      <td>81</td>\n",
       "      <td>82</td>\n",
       "      <td>1191</td>\n",
       "      <td>15</td>\n",
       "      <td>115349</td>\n",
       "      <td>2338</td>\n",
       "    </tr>\n",
       "    <tr>\n",
       "      <td>82</td>\n",
       "      <td>83</td>\n",
       "      <td>1191</td>\n",
       "      <td>10</td>\n",
       "      <td>116550</td>\n",
       "      <td>1147</td>\n",
       "    </tr>\n",
       "    <tr>\n",
       "      <td>83</td>\n",
       "      <td>84</td>\n",
       "      <td>1147</td>\n",
       "      <td>5</td>\n",
       "      <td>117702</td>\n",
       "      <td>0</td>\n",
       "    </tr>\n",
       "  </tbody>\n",
       "</table>\n",
       "<p>84 rows × 5 columns</p>\n",
       "</div>"
      ],
      "text/plain": [
       "    期數  償還本金  償還利息  本金利息累計  剩餘未還本金\n",
       "0    1  1191   417    1608   98809\n",
       "1    2  1191   412    3211   97618\n",
       "2    3  1191   407    4809   96427\n",
       "3    4  1191   402    6402   95236\n",
       "4    5  1191   397    7990   94045\n",
       "..  ..   ...   ...     ...     ...\n",
       "79  80  1191    25  112932    4720\n",
       "80  81  1191    20  114143    3529\n",
       "81  82  1191    15  115349    2338\n",
       "82  83  1191    10  116550    1147\n",
       "83  84  1147     5  117702       0\n",
       "\n",
       "[84 rows x 5 columns]"
      ]
     },
     "execution_count": 5,
     "metadata": {},
     "output_type": "execute_result"
    }
   ],
   "source": [
    "d = {'期數':period_list,'償還本金':principal_list,'償還利息':interest_list,\n",
    "     '本金利息累計':total_list,'剩餘未還本金':rest_list}\n",
    "table = pd.DataFrame(data=d)\n",
    "table"
   ]
  }
 ],
 "metadata": {
  "kernelspec": {
   "display_name": "Python 3",
   "language": "python",
   "name": "python3"
  },
  "language_info": {
   "codemirror_mode": {
    "name": "ipython",
    "version": 3
   },
   "file_extension": ".py",
   "mimetype": "text/x-python",
   "name": "python",
   "nbconvert_exporter": "python",
   "pygments_lexer": "ipython3",
   "version": "3.7.4"
  }
 },
 "nbformat": 4,
 "nbformat_minor": 2
}
