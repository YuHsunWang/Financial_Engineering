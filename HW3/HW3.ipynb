{
 "cells": [
  {
   "cell_type": "markdown",
   "metadata": {},
   "source": [
    "# 載入套件"
   ]
  },
  {
   "cell_type": "code",
   "execution_count": 1,
   "metadata": {},
   "outputs": [],
   "source": [
    "import numpy as np\n",
    "from scipy.special import comb"
   ]
  },
  {
   "cell_type": "markdown",
   "metadata": {},
   "source": [
    "# 參數"
   ]
  },
  {
   "cell_type": "code",
   "execution_count": 107,
   "metadata": {},
   "outputs": [],
   "source": [
    "S = 160     #股價\n",
    "u = 1.5     #上漲幅度\n",
    "d = 0.5     #下跌幅度\n",
    "r = 0.18232 #離散利率\n",
    "X = 150     #履約價\n",
    "n = 5      #期數"
   ]
  },
  {
   "cell_type": "markdown",
   "metadata": {},
   "source": [
    "# 計算R與P"
   ]
  },
  {
   "cell_type": "code",
   "execution_count": 108,
   "metadata": {},
   "outputs": [],
   "source": [
    "R = round((np.exp(r)),3) # exp(r)=R\n",
    "P = (R-d)/(u-d)          # P=(R-d)/(u-d)"
   ]
  },
  {
   "cell_type": "markdown",
   "metadata": {},
   "source": [
    "# 股價以及相對機率"
   ]
  },
  {
   "cell_type": "code",
   "execution_count": 109,
   "metadata": {},
   "outputs": [
    {
     "name": "stdout",
     "output_type": "stream",
     "text": [
      "160.0  (1.0)  \n",
      "240.0  (0.7)  80.0  (0.3)  \n",
      "360.0  (0.49)  120.0  (0.42)  40.0  (0.09)  \n",
      "540.0  (0.343)  180.0  (0.441)  60.0  (0.189)  20.0  (0.027)  \n",
      "810.0  (0.24)  270.0  (0.412)  90.0  (0.265)  30.0  (0.076)  10.0  (0.008)  \n",
      "1215.0  (0.168)  405.0  (0.36)  135.0  (0.309)  45.0  (0.132)  15.0  (0.028)  5.0  (0.002)  \n"
     ]
    }
   ],
   "source": [
    "#先建出(n+1)*(n+1)的list，其中+1的原因是為了放入最初股價\n",
    "Stock_Price = [[0]*(n+1) for i in range(n+1)]\n",
    "Probibility =  [[0]*(n+1) for i in range(n+1)]\n",
    "#分層計算股價\n",
    "#機率部分利用二項式定理計算\n",
    "for i in range(n+1):\n",
    "    for j in range(i+1):\n",
    "        Stock_Price[i][j] = S * u**(i-j) * d**(j) \n",
    "        Probibility[i][j] = round(comb(i,j)*P**(i-j) *(1-P)**(j),3)\n",
    "#將股價以及相對機率一起用print表示\n",
    "for i in range(0, (n+1)):\n",
    "    for j in range(i+1):\n",
    "        print(Stock_Price[i][j], \" \", end='')\n",
    "        print(\"({})\".format(Probibility[i][j]), \" \", end='')\n",
    "    print()"
   ]
  },
  {
   "cell_type": "markdown",
   "metadata": {},
   "source": [
    "# 計算買權價格表"
   ]
  },
  {
   "cell_type": "code",
   "execution_count": 111,
   "metadata": {},
   "outputs": [],
   "source": [
    "#先計算出最後一期的損益\n",
    "Call_Price =  [[0]*(n+1) for i in range(n+1)]\n",
    "for j in range(n+1):\n",
    "    Call_Price[n][j] = max(Stock_Price[n][j] -X,0) \n",
    "#先計算出最後一期的損益\n",
    "#其餘期數利用公式 C_u = (P*C_uu + (1-P)*C_ud)/R\n",
    "#利用倒推法，故將i進行轉換，使其從最後面開始倒推\n",
    "for i in range(0,n):\n",
    "    i = -(i-n+1)\n",
    "    for j in range(i+1):\n",
    "        Call_Price[i][j] = round((P*Call_Price[i+1][j] + (1-P)*Call_Price[i+1][j+1])/R,3)\n",
    "#Hedge Ratio\n",
    "#h = (C_u-C_d)/(S_u-S_d)\n",
    "Hedge_Ratio = [[0]*(n+1) for i in range(n)]\n",
    "for i in range(0,n):\n",
    "    i = -(i-n+1)\n",
    "    for j in range(i+1):\n",
    "        Hedge_Ratio[i][j] = round((Call_Price[i+1][j] - Call_Price[i+1][j+1])/\n",
    "                                  (Stock_Price[i+1][j] - Stock_Price[i+1][j+1]),5)"
   ]
  },
  {
   "cell_type": "code",
   "execution_count": 112,
   "metadata": {},
   "outputs": [
    {
     "name": "stdout",
     "output_type": "stream",
     "text": [
      "108.842  (0.90254)  \n",
      "173.932  (0.94108)  29.526  (0.6327)  \n",
      "276.476  (0.97222)  50.616  (0.72309)  0.0  (0.0)  \n",
      "436.771  (0.99306)  86.771  (0.82639)  0.0  (0.0)  0.0  (0.0)  \n",
      "685.0  (1.0)  148.75  (0.94444)  0.0  (0.0)  0.0  (0.0)  0.0  (0.0)  \n",
      "1065.0  255.0  0  0  0  0  "
     ]
    }
   ],
   "source": [
    "#print 出買權價格表以及股數\n",
    "for i in range(0, (n)):\n",
    "    for j in range(i+1):\n",
    "        print(Call_Price[i][j], \" \", end='')\n",
    "        print(\"({})\".format(Hedge_Ratio[i][j]), \" \", end='')\n",
    "    print()\n",
    "for j in range(n+1):\n",
    "    print(Call_Price[n][j], \" \", end='')"
   ]
  },
  {
   "cell_type": "markdown",
   "metadata": {},
   "source": [
    "# 計算賣權價格表"
   ]
  },
  {
   "cell_type": "code",
   "execution_count": 115,
   "metadata": {},
   "outputs": [],
   "source": [
    "#賣權計算邏輯同上，僅將max函數進行修改\n",
    "Put_Price =  [[0]*(n+1) for i in range(n+1)]\n",
    "for j in range(n+1):\n",
    "    Put_Price[n][j] = max(X-Stock_Price[n][j],0) \n",
    "for i in range(0,n):\n",
    "    i = -(i-n+1)\n",
    "    for j in range(i+1):\n",
    "        Put_Price[i][j] = round((P*Put_Price[i+1][j] + (1-P)*Put_Price[i+1][j+1])/R,3)\n",
    "#B = (uP_d-dP_u)/((u-d)R)\n",
    "Bond      =  [[0]*(n+1) for i in range(n)]\n",
    "for i in range(0,n):\n",
    "    i = -(i-n+1)\n",
    "    for j in range(i+1):\n",
    "        Bond[i][j] = round((u*Put_Price[i+1][j+1] - d*Put_Price[i+1][j])/((u-d)*R),5)"
   ]
  },
  {
   "cell_type": "code",
   "execution_count": 116,
   "metadata": {},
   "outputs": [
    {
     "name": "stdout",
     "output_type": "stream",
     "text": [
      "9.124  (24.7175)  \n",
      "6.27  (20.41)  21.864  (51.24833)  \n",
      "3.282  (13.28167)  17.422  (50.65125)  46.806  (86.80583)  \n",
      "0.938  (4.6875)  10.938  (42.1875)  44.167  (104.16667)  84.167  (104.16667)  \n",
      "0.0  (0.0)  3.75  (18.75)  35.0  (125.0)  95.0  (125.0)  115.0  (125.0)  \n",
      "0  0  15.0  105.0  135.0  145.0  "
     ]
    }
   ],
   "source": [
    "#print 出賣權價格表以及債券數量\n",
    "for i in range(0, (n)):\n",
    "    for j in range(i+1):\n",
    "        print(Put_Price[i][j], \" \", end='')\n",
    "        print(\"({})\".format(Bond[i][j]), \" \", end='')\n",
    "    print()\n",
    "for j in range(n+1):\n",
    "    print(Put_Price[n][j], \" \", end='')"
   ]
  }
 ],
 "metadata": {
  "kernelspec": {
   "display_name": "Python 3",
   "language": "python",
   "name": "python3"
  },
  "language_info": {
   "codemirror_mode": {
    "name": "ipython",
    "version": 3
   },
   "file_extension": ".py",
   "mimetype": "text/x-python",
   "name": "python",
   "nbconvert_exporter": "python",
   "pygments_lexer": "ipython3",
   "version": "3.7.4"
  },
  "toc": {
   "base_numbering": 1,
   "nav_menu": {},
   "number_sections": true,
   "sideBar": true,
   "skip_h1_title": false,
   "title_cell": "Table of Contents",
   "title_sidebar": "Contents",
   "toc_cell": false,
   "toc_position": {},
   "toc_section_display": true,
   "toc_window_display": false
  },
  "varInspector": {
   "cols": {
    "lenName": 16,
    "lenType": 16,
    "lenVar": 40
   },
   "kernels_config": {
    "python": {
     "delete_cmd_postfix": "",
     "delete_cmd_prefix": "del ",
     "library": "var_list.py",
     "varRefreshCmd": "print(var_dic_list())"
    },
    "r": {
     "delete_cmd_postfix": ") ",
     "delete_cmd_prefix": "rm(",
     "library": "var_list.r",
     "varRefreshCmd": "cat(var_dic_list()) "
    }
   },
   "types_to_exclude": [
    "module",
    "function",
    "builtin_function_or_method",
    "instance",
    "_Feature"
   ],
   "window_display": false
  }
 },
 "nbformat": 4,
 "nbformat_minor": 2
}
