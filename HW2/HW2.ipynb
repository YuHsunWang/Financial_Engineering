{
 "cells": [
  {
   "cell_type": "markdown",
   "metadata": {},
   "source": [
    "# 載入套件"
   ]
  },
  {
   "cell_type": "code",
   "execution_count": 13,
   "metadata": {},
   "outputs": [],
   "source": [
    "import pandas as pd\n",
    "import numpy as np\n",
    "from sympy import *"
   ]
  },
  {
   "cell_type": "markdown",
   "metadata": {},
   "source": [
    "# 參數設定"
   ]
  },
  {
   "cell_type": "code",
   "execution_count": 26,
   "metadata": {},
   "outputs": [],
   "source": [
    "Bond_Price  = 800 #Current Bond Price\n",
    "Par_Value   = 1000 #Bond Par Value\n",
    "Coupon_Rate = 0.10 #Bond Coupon Rate\n",
    "Maturity    = 2   #Years to Maturity\n",
    "Payment     = 1    #1 = Annually"
   ]
  },
  {
   "cell_type": "markdown",
   "metadata": {},
   "source": [
    "# 計算殖利率"
   ]
  },
  {
   "cell_type": "code",
   "execution_count": 27,
   "metadata": {},
   "outputs": [],
   "source": [
    "PMT = Par_Value*(Coupon_Rate/Payment) #每期付息"
   ]
  },
  {
   "cell_type": "code",
   "execution_count": 28,
   "metadata": {},
   "outputs": [],
   "source": [
    "#各期PMT折現值 = PMT/(1+YTM) + PMT/(1+YTM)^2 + PMT/(1+YTM)^3 + ... + PMT/(1+YTM)^(m*n)\n",
    "#首項 = PMT/(1+YTM) 公比 = 1/(1+YTM) 項數 = (m*n)\n",
    "#根據等比公式可得\n",
    "#各期PMT折現值 = (PMT/(1+YTM))*(1-(1/(1+YTM))^(m*n)) / (1-(1/(1+YTM)))\n",
    "#Par_Value折現值 = Par_Value /(1+YTM)^(m*n)\n",
    "#Par_Value折現值 + PMT折現值 = Bond_Price\n",
    "x   = symbols('x')\n",
    "sol = solve(PMT/(1+x)*(1-(1+x)**(-Payment*Maturity))/(1-(1/(1+x)))+Par_Value/(1+x)**(Payment*Maturity)-Bond_Price)"
   ]
  },
  {
   "cell_type": "code",
   "execution_count": 29,
   "metadata": {},
   "outputs": [],
   "source": [
    "#實數解都在前面，顧只考慮前兩項\n",
    "if sol[0]>0 :\n",
    "    YTM =round(sol[0],6)\n",
    "elif sol[1]>0 :\n",
    "    YTM =round(sol[1],6)\n",
    "elif sol[2]>0 :\n",
    "    YTM =round(sol[2],6)"
   ]
  },
  {
   "cell_type": "code",
   "execution_count": 30,
   "metadata": {},
   "outputs": [
    {
     "data": {
      "text/plain": [
       "0.236768"
      ]
     },
     "execution_count": 30,
     "metadata": {},
     "output_type": "execute_result"
    }
   ],
   "source": [
    "YTM"
   ]
  },
  {
   "cell_type": "markdown",
   "metadata": {},
   "source": [
    "# 計算Spot Rate"
   ]
  },
  {
   "cell_type": "code",
   "execution_count": 19,
   "metadata": {},
   "outputs": [],
   "source": [
    "spot_list  =[]"
   ]
  },
  {
   "cell_type": "code",
   "execution_count": 21,
   "metadata": {},
   "outputs": [],
   "source": [
    "sol1  = solve((Par_Value+PMT)/(1+x)-Bond_Price,x)\n",
    "if sol1[0]>0 :\n",
    "    spot_rate1 =round(sol1[0],6)\n",
    "elif so1l[1]>0 :\n",
    "    spot_rate1 =round(sol1[1],6)\n",
    "elif sol[2]>0 :\n",
    "    spot_rate1 =round(sol1[2],6)\n",
    "spot_list.append(spot_rate1)"
   ]
  },
  {
   "cell_type": "code",
   "execution_count": 24,
   "metadata": {},
   "outputs": [],
   "source": [
    "sol2 = solve(PMT/(1+spot_rate1)+(Par_Value+PMT)/(1+x)**2-Bond_Price,x)\n",
    "if sol2[0]>0 :\n",
    "    spot_rate2 =round(sol2[0],6)\n",
    "elif sol2[1]>0 :\n",
    "    spot_rate2 =round(sol2[1],6)\n",
    "elif sol2[2]>0 :\n",
    "    spot_rate2 =round(sol2[2],6)\n",
    "spot_list.append(spot_rate2)"
   ]
  },
  {
   "cell_type": "code",
   "execution_count": 25,
   "metadata": {},
   "outputs": [
    {
     "data": {
      "text/plain": [
       "[0.375, 0.23716]"
      ]
     },
     "execution_count": 25,
     "metadata": {},
     "output_type": "execute_result"
    }
   ],
   "source": [
    "spot_list"
   ]
  },
  {
   "cell_type": "markdown",
   "metadata": {},
   "source": [
    "# 計算 Forward Rate"
   ]
  },
  {
   "cell_type": "code",
   "execution_count": 31,
   "metadata": {},
   "outputs": [],
   "source": [
    "forward_rate_0_1 = spot_list[0]\n",
    "forward_rate_0_2 = spot_list[1]\n",
    "forward_rate_1_2 = spot_list[1]/spot_list[0]"
   ]
  },
  {
   "cell_type": "markdown",
   "metadata": {},
   "source": [
    "# ※未完成迴圈"
   ]
  },
  {
   "cell_type": "code",
   "execution_count": null,
   "metadata": {},
   "outputs": [],
   "source": [
    "for i in range(0,Maturity):\n",
    "    time   = i + 1 #期數\n",
    "    sol1    = solve((Par_Value+PMT)/(1+x)-Bond_Price,x)\n",
    "    if sol1[0]>0 :\n",
    "        spot_rate =round(sol1[0],6)\n",
    "    elif so1l[1]>0 :\n",
    "        spot_rate =round(sol1[1],6)\n",
    "    elif sol[2]>0 :\n",
    "        spot_rate =round(sol1[2],6)"
   ]
  }
 ],
 "metadata": {
  "kernelspec": {
   "display_name": "Python 3",
   "language": "python",
   "name": "python3"
  },
  "toc": {
   "base_numbering": 1,
   "nav_menu": {},
   "number_sections": true,
   "sideBar": true,
   "skip_h1_title": false,
   "title_cell": "Table of Contents",
   "title_sidebar": "Contents",
   "toc_cell": false,
   "toc_position": {},
   "toc_section_display": true,
   "toc_window_display": false
  },
  "varInspector": {
   "cols": {
    "lenName": 16,
    "lenType": 16,
    "lenVar": 40
   },
   "kernels_config": {
    "python": {
     "delete_cmd_postfix": "",
     "delete_cmd_prefix": "del ",
     "library": "var_list.py",
     "varRefreshCmd": "print(var_dic_list())"
    },
    "r": {
     "delete_cmd_postfix": ") ",
     "delete_cmd_prefix": "rm(",
     "library": "var_list.r",
     "varRefreshCmd": "cat(var_dic_list()) "
    }
   },
   "types_to_exclude": [
    "module",
    "function",
    "builtin_function_or_method",
    "instance",
    "_Feature"
   ],
   "window_display": false
  }
 },
 "nbformat": 4,
 "nbformat_minor": 2
}
